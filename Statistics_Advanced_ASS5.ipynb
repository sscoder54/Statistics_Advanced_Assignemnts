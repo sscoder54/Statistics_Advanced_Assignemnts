{
 "cells": [
  {
   "cell_type": "markdown",
   "id": "34624e88-f0f3-46f9-b19f-94ae42ced1af",
   "metadata": {},
   "source": [
    "Q1. Calculate the 95% confidence interval for a sample of data with a mean of 50 and a standard deviation of 5 using Python. Interpret the results."
   ]
  },
  {
   "cell_type": "code",
   "execution_count": 4,
   "id": "31ed947b-a8c0-4f21-ac4c-b28a28655bff",
   "metadata": {},
   "outputs": [
    {
     "name": "stdout",
     "output_type": "stream",
     "text": [
      "95% Confidence Interval:\n",
      "Lower Bound: 49.02001800772997\n",
      "Upper Bound: 50.97998199227003\n"
     ]
    }
   ],
   "source": [
    "from scipy.stats import norm\n",
    "import numpy as np\n",
    "\n",
    "sample_mean=50\n",
    "sample_std_dev=5\n",
    "sample_size=100 #assumed\n",
    "\n",
    "# Calculate the standard error\n",
    "SE = sample_std_dev / np.sqrt(sample_size)\n",
    "C_I=0.95\n",
    "significance_level=(1-0.95)/2\n",
    "\n",
    "#calculate te marginal error\n",
    "margin_of_error=norm.ppf(1-significance_level)*SE\n",
    "\n",
    "# Calculate the confidence interval\n",
    "lower_bound = sample_mean - margin_of_error\n",
    "upper_bound = sample_mean + margin_of_error\n",
    "\n",
    "# Print the confidence interval\n",
    "print(\"95% Confidence Interval:\")\n",
    "print(\"Lower Bound:\", lower_bound)\n",
    "print(\"Upper Bound:\", upper_bound)\n"
   ]
  },
  {
   "cell_type": "markdown",
   "id": "2be8db38-0779-444e-9d00-29db124ad648",
   "metadata": {},
   "source": [
    "Q2.Conduct a chi-square goodness of fit test to determine if the distribution of colors of M&Ms in a bag matches the expected distribution of 20% blue, 20% orange, 20% green, 10% yellow, 10% red, and 20% brown. Use Python to perform the test with a significance level of 0.05."
   ]
  },
  {
   "cell_type": "code",
   "execution_count": 7,
   "id": "a33a5f90-b8c5-47c8-a9b5-ccc19e41f884",
   "metadata": {},
   "outputs": [
    {
     "name": "stdout",
     "output_type": "stream",
     "text": [
      "Chi-square Statistic: 5.865384615384616\n",
      "p-value: 0.31953877453920776\n",
      "Fail to reject the null hypothesis. The observed distribution of colors does not differ significantly from the expected distribution.\n"
     ]
    }
   ],
   "source": [
    "from scipy.stats import chisquare\n",
    "import numpy as np\n",
    "\n",
    "# Expected distribution of colors\n",
    "expected_distribution = [0.2, 0.2, 0.2, 0.1, 0.1, 0.2]\n",
    "\n",
    "# Observed frequencies of colors (you need to collect this data)\n",
    "observed_frequencies = [50, 45, 55, 30, 35, 45]\n",
    "\n",
    "# Perform the chi-square goodness of fit test\n",
    "chi2_statistic, p_value = chisquare(observed_frequencies, f_exp=np.array(expected_distribution) * sum(observed_frequencies))\n",
    "\n",
    "# Significance level\n",
    "alpha = 0.05\n",
    "\n",
    "# Print the results\n",
    "print(\"Chi-square Statistic:\", chi2_statistic)\n",
    "print(\"p-value:\", p_value)\n",
    "\n",
    "# Compare p-value to significance level\n",
    "if p_value < alpha:\n",
    "    print(\"Reject the null hypothesis. The observed distribution of colors differs significantly from the expected distribution.\")\n",
    "else:\n",
    "    print(\"Fail to reject the null hypothesis. The observed distribution of colors does not differ significantly from the expected distribution.\")\n"
   ]
  },
  {
   "cell_type": "code",
   "execution_count": 1,
   "id": "756d5b53-9da8-4849-8c80-cb7849ff3290",
   "metadata": {},
   "outputs": [
    {
     "name": "stdout",
     "output_type": "stream",
     "text": [
      "Chi-square Statistic: 5.833333333333334\n",
      "p-value: 0.05411376622282158\n",
      "Degrees of Freedom: 2\n",
      "Expected Frequencies:\n",
      "[[15. 20.]\n",
      " [15. 20.]\n",
      " [15. 20.]]\n"
     ]
    }
   ],
   "source": [
    "# Q3 ans\n",
    "from scipy.stats import chi2_contingency\n",
    "\n",
    "# Contingency table (observed frequencies)\n",
    "observed_frequencies = [[20, 15],\n",
    "                        [10, 25],\n",
    "                        [15,20]]\n",
    "\n",
    "# Perform the chi-square test\n",
    "chi2_statistic, p_value, dof, expected_frequencies = chi2_contingency(observed_frequencies)\n",
    "\n",
    "\n",
    "# Print the results\n",
    "print(\"Chi-square Statistic:\", chi2_statistic)\n",
    "print(\"p-value:\", p_value)\n",
    "print(\"Degrees of Freedom:\", dof)\n",
    "print(\"Expected Frequencies:\")\n",
    "print(expected_frequencies)\n",
    "\n",
    "\n"
   ]
  },
  {
   "cell_type": "markdown",
   "id": "db84964c-6a99-49bb-902b-1e3507e5649a",
   "metadata": {},
   "source": [
    "Q4. A study of the prevalence of smoking in a population of 500 individuals found that 60 individuals\n",
    "smoked. Use Python to calculate the 95% confidence interval for the true proportion of individuals in the\n",
    "population who smoke."
   ]
  },
  {
   "cell_type": "code",
   "execution_count": 1,
   "id": "82ea1518-d363-4a73-80d1-eb609d9fa584",
   "metadata": {},
   "outputs": [
    {
     "name": "stdout",
     "output_type": "stream",
     "text": [
      "95% Confidence Interval for the True Proportion of Smokers:\n",
      "Lower Bound: 0.09151638887130707\n",
      "Upper Bound: 0.1484836111286929\n"
     ]
    }
   ],
   "source": [
    "from scipy.stats import norm\n",
    "import numpy as np\n",
    "\n",
    "# Given data\n",
    "sample_size = 500\n",
    "num_smokers = 60\n",
    "confidence_interval=0.95\n",
    "alpha = (1-confidence_interval)/2\n",
    "# Calculate the sample proportion\n",
    "sample_proportion = num_smokers / sample_size\n",
    "\n",
    "# Calculate the standard error\n",
    "SE = np.sqrt((sample_proportion * (1 - sample_proportion)) / sample_size)\n",
    "\n",
    "\n",
    "# Calculate the margin of error\n",
    "margin_of_error = norm.ppf(1-alpha) * SE\n",
    "\n",
    "# Calculate the confidence interval\n",
    "lower_bound = sample_proportion - margin_of_error\n",
    "upper_bound = sample_proportion + margin_of_error\n",
    "\n",
    "# Print the confidence interval\n",
    "print(\"95% Confidence Interval for the True Proportion of Smokers:\")\n",
    "print(\"Lower Bound:\", lower_bound)\n",
    "print(\"Upper Bound:\", upper_bound)\n"
   ]
  },
  {
   "cell_type": "markdown",
   "id": "8b6a3b80-c503-4f5b-bf97-376de9acaaaf",
   "metadata": {},
   "source": [
    "Q5. Calculate the 90% confidence interval for a sample of data with a mean of 75 and a standard deviation\n",
    "of 12 using Python. Interpret the results."
   ]
  },
  {
   "cell_type": "code",
   "execution_count": 5,
   "id": "3f218320-f68b-402e-9b8e-8eece1d57e8f",
   "metadata": {},
   "outputs": [
    {
     "name": "stdout",
     "output_type": "stream",
     "text": [
      "90% Confidence Interval:\n",
      "Lower Bound: 73.02617564765823\n",
      "Upper Bound: 76.97382435234177\n"
     ]
    }
   ],
   "source": [
    "sample_mean=75\n",
    "sample_STD=12\n",
    "confidence_interval=0.9\n",
    "\n",
    "from scipy.stats import norm\n",
    "import numpy as np\n",
    "\n",
    "\n",
    "sample_size = 100  # Assuming a sample size of 100 (if not provided)\n",
    "\n",
    "# Calculate the standard error\n",
    "SE = sample_STD / np.sqrt(sample_size)\n",
    "\n",
    "# Calculate the margin of error\n",
    "margin_of_error = norm.ppf(0.95) * SE\n",
    "\n",
    "# Calculate the confidence interval\n",
    "lower_bound = sample_mean - margin_of_error\n",
    "upper_bound = sample_mean + margin_of_error\n",
    "\n",
    "# Print the confidence interval\n",
    "print(\"90% Confidence Interval:\")\n",
    "print(\"Lower Bound:\", lower_bound)\n",
    "print(\"Upper Bound:\", upper_bound)"
   ]
  },
  {
   "cell_type": "markdown",
   "id": "0a7878fd-2f1b-42ed-83ae-15b67bb73b65",
   "metadata": {},
   "source": [
    "Q6. Use Python to plot the chi-square distribution with 10 degrees of freedom. Label the axes and shade the\n",
    "area corresponding to a chi-square statistic of 15."
   ]
  },
  {
   "cell_type": "code",
   "execution_count": 6,
   "id": "eba9ecfb-7843-4eeb-b6be-90cc7c7cea7f",
   "metadata": {},
   "outputs": [
    {
     "data": {
      "image/png": "[encoded data removed]",
      "text/plain": [
       "<Figure size 640x480 with 1 Axes>"
      ]
     },
     "metadata": {},
     "output_type": "display_data"
    }
   ],
   "source": [
    "import numpy as np\n",
    "import matplotlib.pyplot as plt\n",
    "from scipy.stats import chi2\n",
    "\n",
    "# Define the range of chi-square values\n",
    "x = np.linspace(0, 30, 1000)\n",
    "\n",
    "# Chi-square distribution with 10 degrees of freedom\n",
    "df = 10\n",
    "y = chi2.pdf(x, df)\n",
    "\n",
    "# Plot the chi-square distribution\n",
    "plt.plot(x, y, 'b-', label='Chi-square Distribution (df=10)')\n",
    "\n",
    "# Shade the area corresponding to a chi-square statistic of 15\n",
    "x_shaded = np.linspace(0, 15, 1000)\n",
    "y_shaded = chi2.pdf(x_shaded, df)\n",
    "plt.fill_between(x_shaded, y_shaded, color='lightgrey', alpha=0.5, label='Chi-square Statistic = 15')\n",
    "\n",
    "# Label the axes and add a legend\n",
    "plt.xlabel('Chi-square Statistic')\n",
    "plt.ylabel('Probability Density')\n",
    "plt.title('Chi-square Distribution with 10 Degrees of Freedom')\n",
    "plt.legend()\n",
    "\n",
    "# Display the plot\n",
    "plt.grid(True)\n",
    "plt.show()\n"
   ]
  },
  {
   "cell_type": "markdown",
   "id": "96a6c253-113f-413f-8ab8-230dbf94e7e0",
   "metadata": {},
   "source": [
    "Q7. A random sample of 1000 people was asked if they preferred Coke or Pepsi. Of the sample, 520\n",
    "preferred Coke. Calculate a 99% confidence interval for the true proportion of people in the population who\n",
    "prefer Coke."
   ]
  },
  {
   "cell_type": "code",
   "execution_count": 8,
   "id": "4fe9d63a-083a-428b-b97a-28ee8eab5233",
   "metadata": {},
   "outputs": [
    {
     "name": "stdout",
     "output_type": "stream",
     "text": [
      "99% Confidence Interval for the True population of people who prefer Coke:\n",
      "Lower Bound: 0.4793051576779699\n",
      "Upper Bound: 0.5606948423220302\n"
     ]
    }
   ],
   "source": [
    "from scipy.stats import norm\n",
    "import numpy as np\n",
    "sample_size=1000\n",
    "pre_coke=520\n",
    "\n",
    "confidence_interval=0.99\n",
    "alpha = (1-confidence_interval)/2\n",
    "# Calculate the sample proportion\n",
    "sample_proportion = pre_coke / sample_size\n",
    "\n",
    "# Calculate the standard error\n",
    "SE = np.sqrt((sample_proportion * (1 - sample_proportion)) / sample_size)\n",
    "\n",
    "\n",
    "# Calculate the margin of error\n",
    "margin_of_error = norm.ppf(1-alpha) * SE\n",
    "\n",
    "# Calculate the confidence interval\n",
    "lower_bound = sample_proportion - margin_of_error\n",
    "upper_bound = sample_proportion + margin_of_error\n",
    "\n",
    "# Print the confidence interval\n",
    "print(\"99% Confidence Interval for the True population of people who prefer Coke:\")\n",
    "print(\"Lower Bound:\", lower_bound)\n",
    "print(\"Upper Bound:\", upper_bound)\n"
   ]
  },
  {
   "cell_type": "markdown",
   "id": "576340f8-57f3-45f3-bcf9-238581fcbdca",
   "metadata": {},
   "source": [
    "Q8. A researcher hypothesizes that a coin is biased towards tails. They flip the coin 100 times and observe\n",
    "45 tails. Conduct a chi-square goodness of fit test to determine if the observed frequencies match the\n",
    "expected frequencies of a fair coin. Use a significance level of 0.05."
   ]
  },
  {
   "cell_type": "code",
   "execution_count": 3,
   "id": "bb902b5b-65fb-4fb7-8f16-d5361aa81fa0",
   "metadata": {},
   "outputs": [
    {
     "name": "stdout",
     "output_type": "stream",
     "text": [
      "Chi-square Statistic: 0.0\n",
      "p-value: 1.0\n",
      "0\n",
      "[45. 55.]\n",
      "Fail to reject the null hypothesis. The observed distribution of tails and heads does not differ significantly from the expected distribution.\n"
     ]
    }
   ],
   "source": [
    "flip_size = 100\n",
    "num_tails = 45\n",
    "significance_level = 0.05\n",
    "\n",
    "import numpy as np\n",
    "import matplotlib.pyplot as plt\n",
    "from scipy.stats import chisquare,chi2_contingency,chi2\n",
    "\n",
    "observed_frequencies = [45,55]\n",
    "\n",
    "\n",
    "# Perform the chi-square test\n",
    "chi2_statistic, p_value, dof, expected_frequencies = chi2_contingency(observed_frequencies)\n",
    "\n",
    "# Print the results\n",
    "print(\"Chi-square Statistic:\", chi2_statistic)\n",
    "print(\"p-value:\", p_value)\n",
    "print(dof)\n",
    "print(expected_frequencies)\n",
    "\n",
    "# Compare p-value to significance level\n",
    "if p_value < significance_level:\n",
    "    print(\"Reject the null hypothesis. The observed distribution of tails and heads differs significantly from the expected distribution.\")\n",
    "else:\n",
    "    print(\"Fail to reject the null hypothesis. The observed distribution of tails and heads does not differ significantly from the expected distribution.\")\n"
   ]
  },
  {
   "cell_type": "markdown",
   "id": "446263ea-e848-40b9-8cfd-18ccf0ce623c",
   "metadata": {},
   "source": [
    "Q9. A study was conducted to determine if there is an association between smoking status (smoker or\n",
    "non-smoker) and lung cancer diagnosis (yes or no). The results are shown in the contingency table below.\n",
    "Conduct a chi-square test for independence to determine if there is a significant association between\n",
    "smoking status and lung cancer diagnosis.\n",
    "\n",
    "observed=[[60,140],[30,170]]"
   ]
  },
  {
   "cell_type": "code",
   "execution_count": 4,
   "id": "96261e98-d57b-4100-bea7-26fa7d0a7330",
   "metadata": {},
   "outputs": [
    {
     "name": "stdout",
     "output_type": "stream",
     "text": [
      "chi2 statistics 12.057347670250895\n",
      "P Value 0.0005158863863703744\n",
      "[[ 45. 155.]\n",
      " [ 45. 155.]]\n",
      "Reject the null hypothesis. There is a significant association between smoking status and lung cancer diagnosis.\n"
     ]
    }
   ],
   "source": [
    "from scipy.stats import chi2_contingency \n",
    "import numpy as np\n",
    "\n",
    "observed_freq=[[60,140],[30,170]]\n",
    "\n",
    "#Assumtion\n",
    "alpha = 0.05\n",
    "\n",
    "chi2_statistics,p_value,dof,expected_freq=chi2_contingency(observed_freq)\n",
    "\n",
    "print(\"chi2 statistics\",chi2_statistics)\n",
    "print(\"P Value\",p_value)\n",
    "print(expected_freq)\n",
    "\n",
    "# Compare p-value to significance level\n",
    "if p_value < alpha:\n",
    "    print(\"Reject the null hypothesis. There is a significant association between smoking status and lung cancer diagnosis.\")\n",
    "else:\n",
    "    print(\"Fail to reject the null hypothesis. There is no significant association between smoking status and lung cancer diagnosis.\")"
   ]
  },
  {
   "cell_type": "markdown",
   "id": "84bf8c0b-8970-4e51-ab7f-813700896e54",
   "metadata": {},
   "source": [
    "Q10. A study was conducted to determine if the proportion of people who prefer milk chocolate, dark\n",
    "chocolate, or white chocolate is different in the U.S. versus the U.K. A random sample of 500 people from\n",
    "the U.S. and a random sample of 500 people from the U.K. were surveyed. The results are shown in the\n",
    "contingency table below. Conduct a chi-square test for independence to determine if there is a significant\n",
    "association between chocolate preference and country of origin."
   ]
  },
  {
   "cell_type": "code",
   "execution_count": 6,
   "id": "b25f4888-67d2-41b2-a1fe-7fccfaca1b82",
   "metadata": {},
   "outputs": [
    {
     "name": "stdout",
     "output_type": "stream",
     "text": [
      "chi2 statistics 13.393665158371041\n",
      "P Value 0.0012348168997745918\n",
      "[[212.5 162.5 125. ]\n",
      " [212.5 162.5 125. ]]\n",
      "Reject the null hypothesis. There is a significant association between chocolate preference and country of origin.\n"
     ]
    }
   ],
   "source": [
    "from scipy.stats import chi2_contingency \n",
    "import numpy as np\n",
    "\n",
    "observed_freq=[[200,150,150],[225,175,100]]\n",
    "\n",
    "#Assumtion\n",
    "alpha = 0.01\n",
    "\n",
    "chi2_statistics,p_value,dof,expected_freq=chi2_contingency(observed_freq)\n",
    "\n",
    "print(\"chi2 statistics\",chi2_statistics)\n",
    "print(\"P Value\",p_value)\n",
    "print(expected_freq)\n",
    "\n",
    "# Compare p-value to significance level\n",
    "if p_value < alpha:\n",
    "    print(\"Reject the null hypothesis. There is a significant association between chocolate preference and country of origin.\")\n",
    "else:\n",
    "    print(\"Fail to reject the null hypothesis. There is no significant association between chocolate preference and country of origin.\")"
   ]
  },
  {
   "cell_type": "markdown",
   "id": "dd161571-aa4c-4a12-9c65-93838540ba0a",
   "metadata": {},
   "source": [
    "Q11. A random sample of 30 people was selected from a population with an unknown mean and standard\n",
    "deviation. The sample mean was found to be 72 and the sample standard deviation was found to be 10.\n",
    "Conduct a hypothesis test to determine if the population mean is significantly different from 70. Use a\n",
    "significance level of 0.05."
   ]
  },
  {
   "cell_type": "code",
   "execution_count": null,
   "id": "df99b031-5a21-4fdf-b764-c6c9a2934191",
   "metadata": {},
   "outputs": [],
   "source": [
    "\n",
    "from scipy.stats import t\n",
    "\n",
    "# Given data\n",
    "sample_mean = 72\n",
    "sample_std_dev = 10\n",
    "sample_size = 30\n",
    "population_mean = 70\n",
    "significance_level = 0.05\n",
    "\n",
    "# Calculate the test statistic\n",
    "t_statistic = (sample_mean - population_mean) / (sample_std_dev / (sample_size ** 0.5))\n",
    "\n",
    "# Degrees of freedom\n",
    "df = sample_size - 1\n",
    "\n",
    "# Critical value for two-tailed test with significance level 0.05\n",
    "critical_value = t.ppf(1 - significance_level / 2, df)\n",
    "\n",
    "# Print the test statistic and critical value\n",
    "print(\"t-statistic:\", t_statistic)\n",
    "print(\"Critical Value:\", critical_value)\n",
    "\n",
    "# Compare test statistic to critical value\n",
    "if abs(t_statistic) > critical_value:\n",
    "    print(\"Reject the null hypothesis. The population mean is significantly different from 70.\")\n",
    "else:\n",
    "    print(\"Fail to reject the null hypothesis. The population mean is not significantly different from 70.\")\n",
    "\n",
    "\n",
    "\n"
   ]
  }
 ],
 "metadata": {
  "kernelspec": {
   "display_name": "Python 3 (ipykernel)",
   "language": "python",
   "name": "python3"
  },
  "language_info": {
   "codemirror_mode": {
    "name": "ipython",
    "version": 3
   },
   "file_extension": ".py",
   "mimetype": "text/x-python",
   "name": "python",
   "nbconvert_exporter": "python",
   "pygments_lexer": "ipython3",
   "version": "3.10.8"
  }
 },
 "nbformat": 4,
 "nbformat_minor": 5
}
