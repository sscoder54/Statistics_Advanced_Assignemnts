{
 "cells": [
  {
   "cell_type": "markdown",
   "id": "8f809635-2913-4cc4-8f80-157ad7d84032",
   "metadata": {},
   "source": [
    "Q1.What is Estimation Statistics? Explain point estimate and interval estimate."
   ]
  },
  {
   "cell_type": "markdown",
   "id": "845a0721-c7b7-48cf-97b4-f0f9c7dba033",
   "metadata": {},
   "source": [
    "Estimation Statistics:\n",
    "Estimation statistics involves making inferences about population parameters based on sample data. It provides a way to estimate unknown population parameters using information obtained from a sample. There are two main types of estimation: point estimation and interval estimation.\n",
    "\n",
    "Point Estimate:\n",
    "\n",
    "Definition: A point estimate is a single value that is used to approximate an unknown population parameter. It is derived from sample data and serves as the best guess for the true value of the parameter.\n",
    "Example: If you calculate the mean height of a sample and use it as an estimate for the mean height of the entire population, the sample mean is a point estimate for the population mean.\n",
    "Interval Estimate:\n",
    "\n",
    "Definition: An interval estimate provides a range within which the true population parameter is likely to fall. It consists of an interval or range of values rather than a single point. Confidence intervals are commonly used for interval estimation.\n",
    "Example: Instead of providing only the sample mean as an estimate, you might provide a confidence interval, such as \"We are 95% confident that the true population mean height falls between 65 inches and 75 inches.\""
   ]
  },
  {
   "cell_type": "markdown",
   "id": "cfd82876-c5f0-47b8-942b-a31cd01ba5f0",
   "metadata": {},
   "source": [
    "Q2.Write a Python function to estimate the population mean using a sample mean and standard\n",
    "deviation."
   ]
  },
  {
   "cell_type": "code",
   "execution_count": 1,
   "id": "846aa2a4-658e-4c57-9630-1a0c583f3925",
   "metadata": {},
   "outputs": [
    {
     "name": "stdout",
     "output_type": "stream",
     "text": [
      "Estimated Population Mean: 68.50\n"
     ]
    }
   ],
   "source": [
    "def estimate_population_mean(sample_mean, sample_size, sample_std_dev):\n",
    "    \"\"\"\n",
    "    Estimate the population mean based on a sample mean, sample size, and sample standard deviation.\n",
    "\n",
    "    Parameters:\n",
    "    - sample_mean (float): Sample mean\n",
    "    - sample_size (int): Sample size\n",
    "    - sample_std_dev (float): Sample standard deviation\n",
    "\n",
    "    Returns:\n",
    "    - population_mean_estimate (float): Estimated population mean\n",
    "    \"\"\"\n",
    "    import math\n",
    "\n",
    "    # Calculate the standard error of the mean (SEM)\n",
    "    standard_error = sample_std_dev / math.sqrt(sample_size)\n",
    "\n",
    "    # Calculate the margin of error (MOE) for a certain confidence level (e.g., 95%)\n",
    "    # You can adjust the z-value based on the desired confidence level\n",
    "    confidence_level_z = 1.96  # for 95% confidence level\n",
    "    margin_of_error = confidence_level_z * standard_error\n",
    "\n",
    "    # Calculate the confidence interval\n",
    "    lower_bound = sample_mean - margin_of_error\n",
    "    upper_bound = sample_mean + margin_of_error\n",
    "\n",
    "    # The midpoint of the confidence interval is used as the population mean estimate\n",
    "    population_mean_estimate = (lower_bound + upper_bound) / 2\n",
    "\n",
    "    return population_mean_estimate\n",
    "\n",
    "# Example usage:\n",
    "sample_mean = 68.5\n",
    "sample_size = 30\n",
    "sample_std_dev = 3.5\n",
    "\n",
    "estimated_mean = estimate_population_mean(sample_mean, sample_size, sample_std_dev)\n",
    "print(f\"Estimated Population Mean: {estimated_mean:.2f}\")\n"
   ]
  },
  {
   "cell_type": "markdown",
   "id": "78ada21f-1850-4b59-8ee8-27fa129e6013",
   "metadata": {},
   "source": [
    "Q3.What is Hypothesis testing? Why is it used? State the importance of Hypothesis testing."
   ]
  },
  {
   "cell_type": "markdown",
   "id": "b214c627-ec25-4de7-85ff-637d815d9e4e",
   "metadata": {},
   "source": [
    "Hypothesis testing is a statistical method used to make inferences and draw conclusions about population parameters based on sample data. The process involves formulating a hypothesis (null hypothesis and alternative hypothesis), collecting and analyzing data, and then making a decision about the validity of the null hypothesis.\n",
    "\n",
    "Importance of Hypothesis Testing:\n",
    "Hypothesis testing is crucial for informed decision-making, offering a systematic way to assess assumptions, provide statistical confidence, validate scientific theories, ensure quality in industries, gain medical insights, and contribute to a deeper understanding of social phenomena. It is a foundational tool that guides critical thinking and advances knowledge across various fields."
   ]
  },
  {
   "cell_type": "markdown",
   "id": "415917d6-28a9-4c41-8170-f001057f2af3",
   "metadata": {},
   "source": [
    "Q4.Create a hypothesis that states whether the average weight of male college students is greater than\n",
    "the average weight of female college students."
   ]
  },
  {
   "cell_type": "markdown",
   "id": "f15d4cb7-3b0d-4095-b58b-004992299203",
   "metadata": {},
   "source": [
    "Hypothesis:\n",
    "Null Hypothesis: The average weight of male college students is equal to or less than the average weight of female college students.\n",
    "\n",
    "Alternative Hypothesis: The average weight of male college students is greater than the average weight of female college students."
   ]
  },
  {
   "cell_type": "markdown",
   "id": "a43400ea-c389-4b07-8b04-1475bb76b2e8",
   "metadata": {},
   "source": [
    "Q5.Write a Python script to conduct a hypothesis test on the difference between two population means,\n",
    "given a sample from each population."
   ]
  },
  {
   "cell_type": "markdown",
   "id": "1fe22e65-4548-4861-964b-a1f14cba3de4",
   "metadata": {},
   "source": [
    "Certainly! To conduct a hypothesis test on the difference between two population means, you can use the t-test for independent samples. Here's a Python script using the scipy.stats module:"
   ]
  },
  {
   "cell_type": "code",
   "execution_count": 2,
   "id": "b2b014a4-3d4f-4d7b-9417-3abe245fd0ff",
   "metadata": {},
   "outputs": [
    {
     "name": "stdout",
     "output_type": "stream",
     "text": [
      "Two-Sample T-Test Results:\n",
      "t-statistic: 2.8685\n",
      "P-value: 0.0209\n",
      "Reject Null Hypothesis: True\n"
     ]
    }
   ],
   "source": [
    "import numpy as np\n",
    "from scipy import stats\n",
    "\n",
    "def two_sample_t_test(sample1, sample2, alpha=0.05):\n",
    "    \"\"\"\n",
    "    Perform a two-sample t-test for the difference between means of two populations.\n",
    "\n",
    "    Parameters:\n",
    "    - sample1 (array-like): Sample data for population 1.\n",
    "    - sample2 (array-like): Sample data for population 2.\n",
    "    - alpha (float): Significance level (default is 0.05).\n",
    "\n",
    "    Returns:\n",
    "    - result (tuple): t-statistic, p-value, and whether to reject the null hypothesis.\n",
    "    \"\"\"\n",
    "    # Perform independent two-sample t-test\n",
    "    t_statistic, p_value = stats.ttest_ind(sample1, sample2)\n",
    "\n",
    "    # Check if the p-value is less than the significance level\n",
    "    reject_null = p_value < alpha\n",
    "\n",
    "    return t_statistic, p_value, reject_null\n",
    "\n",
    "# Example usage:\n",
    "# Replace these samples with your actual data\n",
    "sample_male = np.array([70, 72, 75, 68, 71])\n",
    "sample_female = np.array([65, 68, 70, 63, 66])\n",
    "\n",
    "# Set the significance level (alpha)\n",
    "alpha = 0.05\n",
    "\n",
    "# Perform the two-sample t-test\n",
    "t_stat, p_val, reject_null = two_sample_t_test(sample_male, sample_female, alpha)\n",
    "\n",
    "# Print the results\n",
    "print(f\"Two-Sample T-Test Results:\")\n",
    "print(f\"t-statistic: {t_stat:.4f}\")\n",
    "print(f\"P-value: {p_val:.4f}\")\n",
    "print(f\"Reject Null Hypothesis: {reject_null}\")\n"
   ]
  },
  {
   "cell_type": "markdown",
   "id": "74d649f3-22d8-489a-a7b0-8d7e15db7081",
   "metadata": {},
   "source": [
    "Q6.What is a null and alternative hypothesis? Give some examples."
   ]
  },
  {
   "cell_type": "markdown",
   "id": "fc8db9f3-1528-48cd-88a6-397aa52f64c9",
   "metadata": {},
   "source": [
    "\n",
    "Null Hypothesis:The null hypothesis is a statement that there is no significant difference, effect, or relationship in the population. It represents a default assumption or the status quo.\n",
    "Example 1: The average height of male and female students is the same.\n",
    "Example 2: The new drug has no effect on blood pressure.\n",
    "Alternative Hypothesis : The alternative hypothesis is a statement that contradicts the null hypothesis, suggesting the presence of a significant difference, effect, or relationship.\n",
    "Example 1: The average height of male students is greater than female students.\n",
    "Example 2: The new drug reduces blood pressure compared to the placebo."
   ]
  },
  {
   "cell_type": "markdown",
   "id": "62ea17ca-43ad-44ec-90c9-9cd3e4aa60f4",
   "metadata": {},
   "source": [
    "Q7.Write down the steps involved in hypothesis testing."
   ]
  },
  {
   "cell_type": "markdown",
   "id": "27b7cdaf-266e-4674-a22c-30134c596d96",
   "metadata": {},
   "source": [
    "Hypothesis testing involves a series of steps to assess the validity of a null hypothesis and make inferences about population parameters. Here are the general steps involved in hypothesis testing:\n",
    "\n",
    "Formulate Hypotheses:\n",
    "\n",
    "Null Hypothesis: Assumes no significant difference, effect, or relationship.\n",
    "Alternative Hypothesis : States the presence of a significant difference, effect, or relationship.\n",
    "\n",
    "Set Significance Level :\n",
    "Choose a predetermined significance level (e.g., 0.05) that represents the probability of rejecting the null hypothesis when it is true.\n",
    "\n",
    "Collect Data:\n",
    "Collect relevant data through experiments, surveys, or observations.\n",
    "\n",
    "Choose a Statistical Test:\n",
    "Select an appropriate statistical test based on the nature of the data and the hypothesis being tested (e.g., t-test, chi-square test, etc.).\n",
    "\n",
    "Calculate Test Statistic:\n",
    "Compute the test statistic using the collected data and the chosen statistical test.\n",
    "\n",
    "Determine Critical Region:\n",
    "Identify the critical region or rejection region in the distribution of the test statistic based on the chosen significance level.\n",
    "\n",
    "Make a Decision:\n",
    "Compare the calculated test statistic with the critical value or p-value.\n",
    "If the test statistic falls in the critical region or the p-value is less than significance value, reject the null hypothesis.\n",
    "If the test statistic does not fall in the critical region and the p-value is greater than or equal to significance value do not reject the null hypothesis.\n",
    "\n",
    "Draw Conclusions:\n",
    "Based on the decision in step 7, draw conclusions about the null hypothesis.\n",
    "If the null hypothesis is rejected, interpret the results in the context of the alternative hypothesis.\n",
    "\n",
    "Report Results:\n",
    "Communicate the findings, including the test statistic, p-value, and the decision regarding the null hypothesis.Provide context and implications of the results.\n",
    "\n",
    "Consider Limitations and Assumptions:\n",
    "Acknowledge any limitations or assumptions associated with the study and hypothesis testing process.\n",
    "These steps provide a structured framework for conducting hypothesis tests and drawing meaningful conclusions based on statistical evidence."
   ]
  },
  {
   "cell_type": "markdown",
   "id": "cd1a252b-8f9d-4193-b67a-9f13a35443bd",
   "metadata": {},
   "source": [
    "Q8.Define p-value and explain its significance in hypothesis testing."
   ]
  },
  {
   "cell_type": "markdown",
   "id": "245be168-eb98-46f5-9443-97684a6867b1",
   "metadata": {},
   "source": [
    "P-value Definition:\n",
    "The p-value, or probability value, is a measure that quantifies the evidence against a null hypothesis in hypothesis testing. It represents the probability of observing a test statistic as extreme as, or more extreme than, the one computed from the sample data, assuming that the null hypothesis is true.\n",
    "\n",
    "Significance in Hypothesis Testing:\n",
    "The p-value plays a crucial role in hypothesis testing, and its significance can be interpreted as follows:\n",
    "\n",
    "Decision Rule:\n",
    "\n",
    "If the p-value is less than or equal to the chosen significance level, typically 0.05, the null hypothesis is rejected.\n",
    "If the p-value is greater than signivicance level there is insufficient evidence to reject the null hypothesis."
   ]
  },
  {
   "cell_type": "markdown",
   "id": "a0bd3229-9c61-4d42-b14c-d8d4a548a711",
   "metadata": {},
   "source": [
    "Q9.Generate a Student's t-distribution plot using Python's matplotlib library, with the degrees of freedom\n",
    "parameter set to 10."
   ]
  },
  {
   "cell_type": "code",
   "execution_count": 8,
   "id": "e8ff5b77-09ab-4417-bbe5-6f55954062a8",
   "metadata": {},
   "outputs": [
    {
     "data": {
      "image/png": "[encoded data removed]",
      "text/plain": [
       "<Figure size 640x480 with 1 Axes>"
      ]
     },
     "metadata": {},
     "output_type": "display_data"
    }
   ],
   "source": [
    "import numpy as np\n",
    "import matplotlib.pyplot as plt\n",
    "from scipy.stats import t\n",
    "\n",
    "degrees_of_freedom = 10\n",
    "\n",
    "#Generate data points for x-axis\n",
    "x = np.linspace(-4,4,1000)\n",
    "\n",
    "# Calculate the Probability density function for the t-distribution\n",
    "pdf = t.pdf(x, df=degrees_of_freedom)\n",
    "\n",
    "#plot the t-distribution\n",
    "plt.plot(x,pdf, label=f't-distribution for (df={degrees_of_freedom})')\n",
    "\n",
    "plt.title(\"Student's t-distribution\")\n",
    "plt.xlabel(\"x\")\n",
    "plt.ylabel(\"PDF\")\n",
    "plt.legend()\n",
    "plt.show()\n"
   ]
  },
  {
   "cell_type": "markdown",
   "id": "974df01c-86ba-4c17-9535-fc8562cfddb4",
   "metadata": {},
   "source": [
    "Q10.Write a Python program to calculate the two-sample t-test for independent samples, given two\n",
    "random samples of equal size and a null hypothesis that the population means are equal."
   ]
  },
  {
   "cell_type": "code",
   "execution_count": 1,
   "id": "99f300ad-ddc0-4aaa-9a27-c45f69b49b07",
   "metadata": {},
   "outputs": [
    {
     "name": "stdout",
     "output_type": "stream",
     "text": [
      "Two-Sample T-Test Results:\n",
      "t-statistic: 4.3355\n",
      "P-value: 0.0001\n",
      "Reject Null Hypothesis: True\n"
     ]
    }
   ],
   "source": [
    "import numpy as np\n",
    "from scipy.stats import ttest_ind\n",
    "\n",
    "def two_sample_t_test(sample1,sample2,alpha=0.5):\n",
    "    \"\"\"\n",
    "    Perform a two-sample t-test for independent samples.\n",
    "\n",
    "    Parameters:\n",
    "    - sample1 (array-like): Sample data for group 1.\n",
    "    - sample2 (array-like): Sample data for group 2.\n",
    "    - alpha (float): Significance level (default is 0.05).\n",
    "\n",
    "    Returns:\n",
    "    - t_statistic (float): The calculated t-statistic.\n",
    "    - p_value (float): The calculated p-value.\n",
    "    - reject_null (bool): Whether to reject the null hypothesis.\n",
    "    \"\"\"\n",
    "    # Perform independent two-sample t-test\n",
    "    t_statistic, p_value = ttest_ind(sample1, sample2)\n",
    "\n",
    "    # Check if the p-value is less than the significance level\n",
    "    reject_null = p_value < alpha\n",
    "\n",
    "    return t_statistic, p_value, reject_null\n",
    "\n",
    "# Generate two random samples of equal size\n",
    "np.random.seed(0)  # for reproducibility\n",
    "sample_size = 30\n",
    "sample1 = np.random.normal(loc=70, scale=5, size=sample_size)\n",
    "sample2 = np.random.normal(loc=68, scale=5, size=sample_size)\n",
    "\n",
    "# Set the significance level (alpha)\n",
    "alpha = 0.05\n",
    "\n",
    "# Perform the two-sample t-test\n",
    "t_statistic, p_val, reject_null = two_sample_t_test(sample1, sample2, alpha)\n",
    "\n",
    "# Print the results\n",
    "print(\"Two-Sample T-Test Results:\")\n",
    "print(f\"t-statistic: {t_statistic:.4f}\")\n",
    "print(f\"P-value: {p_val:.4f}\")\n",
    "print(f\"Reject Null Hypothesis: {reject_null}\")\n"
   ]
  },
  {
   "cell_type": "markdown",
   "id": "8fee9bc3-79dc-41d1-a22e-60752ebf9b2e",
   "metadata": {},
   "source": [
    "Q11.What is Student’s t distribution? When to use the t-Distribution."
   ]
  },
  {
   "cell_type": "markdown",
   "id": "925164f4-d8f4-4cdc-aea7-959fe8e8d704",
   "metadata": {},
   "source": [
    "Student's t-distribution, often referred to simply as the t-distribution, is a probability distribution that is symmetric and bell-shaped, similar to the standard normal distribution (Z-distribution). However, the t-distribution has heavier tails, which means it has more probability in the tails and less in the center compared to the normal distribution. The shape of the t-distribution is characterized by its degrees of freedom (df), which determine how heavy or light the tails are.\n",
    "\n",
    "The t-distribution is commonly used in hypothesis testing and confidence interval estimation when the population standard deviation is unknown and the sample size is small (typically less than 30). It is particularly useful in situations where:\n",
    "\n",
    "Population Standard Deviation is Unknown\n",
    "Small Sample Sizes\n",
    "Estimation of Confidence Intervals:\n",
    "Hypothesis Testing:\n",
    "\n",
    "Overall, the t-distribution is a valuable tool in statistics, providing a robust method for inference in situations where the assumptions of normality or known population parameters are not met, especially for small sample sizes. It allows researchers to make reliable inferences and draw meaningful conclusions from limited data.\n"
   ]
  },
  {
   "cell_type": "markdown",
   "id": "85d4d84a-44bc-418d-b729-5aaadb1c587e",
   "metadata": {},
   "source": [
    "Q12.What is t-statistic? State the formula for t-statistic."
   ]
  },
  {
   "cell_type": "markdown",
   "id": "8d193895-27ae-4f89-b4dc-b382a3eb1bbf",
   "metadata": {},
   "source": [
    "The t-statistic, also known as the student's t-statistic, is a measure used in hypothesis testing to assess the significance of the difference between sample means or to test hypotheses about population means when the population standard deviation is unknown and the sample size is small. It indicates the distance of a sample mean from a hypothesized population mean in terms of the standard error of the mean.\n",
    "\n",
    "The formula for the t-statistic depends on the context of its application, such as one-sample t-test, two-sample t-test, or paired t-test. "
   ]
  },
  {
   "cell_type": "markdown",
   "id": "83f4d0e7-b9d0-4c90-be19-5948b3f9a3f8",
   "metadata": {},
   "source": [
    "Q13.A coffee shop owner wants to estimate the average daily revenue for their shop. They take a random\n",
    "sample of 50 days and find the sample mean revenue to be $500 with a standard deviation of $50.\n",
    "Estimate the population mean revenue with a 95% confidence interval."
   ]
  },
  {
   "cell_type": "code",
   "execution_count": 5,
   "id": "94947a78-4684-4d9c-8215-60aa46a0aee7",
   "metadata": {},
   "outputs": [
    {
     "name": "stdout",
     "output_type": "stream",
     "text": [
      "Critical_value:2.009575234489209\n",
      "95% Confidence Interval for Population Mean Revenue: ($485.79, $514.21)\n"
     ]
    }
   ],
   "source": [
    "# Given data\n",
    "n=50\n",
    "X_bar=500\n",
    "sample_std=50\n",
    "C_I=0.95\n",
    "\n",
    "import numpy as np\n",
    "from scipy.stats import t\n",
    "\n",
    "# Degrees of freedom (df)\n",
    "df = n - 1\n",
    "\n",
    "# Calculate the critical value (t) from the t-distribution\n",
    "critical_value = t.ppf((1 + C_I) / 2, df)\n",
    "\n",
    "print(f\"Critical_value:{critical_value}\")\n",
    "\n",
    "# Calculate the margin of error\n",
    "margin_of_error = critical_value * (sample_std / np.sqrt(n))\n",
    "\n",
    "# Calculate the confidence interval\n",
    "lower_bound = X_bar - margin_of_error\n",
    "upper_bound = X_bar + margin_of_error\n",
    "\n",
    "# Print the results\n",
    "print(f\"95% Confidence Interval for Population Mean Revenue: (${lower_bound:.2f}, ${upper_bound:.2f})\")\n"
   ]
  },
  {
   "cell_type": "markdown",
   "id": "a252d168-4cf1-4460-a7d8-329303e30403",
   "metadata": {},
   "source": [
    "Q14. A researcher hypothesizes that a new drug will decrease blood pressure by 10 mmHg. They conduct a\n",
    "clinical trial with 100 patients and find that the sample mean decrease in blood pressure is 8 mmHg with a\n",
    "standard deviation of 3 mmHg. Test the hypothesis with a significance level of 0.05."
   ]
  },
  {
   "cell_type": "code",
   "execution_count": 2,
   "id": "39f74ed1-61d7-4a49-b88e-63ab9a517831",
   "metadata": {},
   "outputs": [
    {
     "name": "stdout",
     "output_type": "stream",
     "text": [
      "Critical_value:-1.6603911559963902\n",
      "t_statistics:-6.666666666666667\n",
      "Reject Null Hypothesis: True\n"
     ]
    }
   ],
   "source": [
    "papulation_mean=10\n",
    "n=100\n",
    "sample_mean=8\n",
    "sample_STD=3\n",
    "significance_level=0.05\n",
    "#THEN\n",
    "C_I=1-significance_level\n",
    "df=n-1\n",
    "\n",
    "import numpy as np\n",
    "from scipy.stats import t\n",
    "critical_value = t.ppf(significance_level, df)\n",
    "t_statistic = (sample_mean - papulation_mean) / (sample_STD / np.sqrt(n))\n",
    "\n",
    "print(f\"Critical_value:{critical_value}\")\n",
    "print(f\"t_statistics:{t_statistic}\")\n",
    "\n",
    "reject_null = t_statistic < critical_value\n",
    "\n",
    "print(f\"Reject Null Hypothesis: {reject_null}\")"
   ]
  },
  {
   "cell_type": "markdown",
   "id": "cfbda154-ec0b-4334-b6e0-b7a1a5a387f5",
   "metadata": {},
   "source": [
    "Q15.An electronics company produces a certain type of product with a mean weight of 5 pounds and a\n",
    "standard deviation of 0.5 pounds. A random sample of 25 products is taken, and the sample mean weight\n",
    "is found to be 4.8 pounds. Test the hypothesis that the true mean weight of the products is less than 5\n",
    "pounds with a significance level of 0.01."
   ]
  },
  {
   "cell_type": "code",
   "execution_count": 2,
   "id": "1bfd6557-33e7-4f81-a849-6b35c9ad7d81",
   "metadata": {},
   "outputs": [],
   "source": [
    "import numpy as np\n",
    "mu = 5  # Population mean weight (lbs)\n",
    "sigma = 0.5  # Population standard deviation (lbs)\n",
    "sample_mean = 4.8  # Sample mean weight (lbs)\n",
    "n = 25  # Sample size\n",
    "alpha = 0.01  # Significance level\n",
    "\n",
    "# Calculate the standard error of the mean (SEM)\n",
    "sem = sigma / np.sqrt(n)\n",
    "\n",
    "# Calculate the z-score\n",
    "z_score = (sample_mean - mu) / sem"
   ]
  },
  {
   "cell_type": "code",
   "execution_count": 3,
   "id": "8592c215-8eaf-44f1-80f7-e926bbe3ecd9",
   "metadata": {},
   "outputs": [
    {
     "data": {
      "text/plain": [
       "-2.0000000000000018"
      ]
     },
     "execution_count": 3,
     "metadata": {},
     "output_type": "execute_result"
    }
   ],
   "source": [
    "z_score"
   ]
  },
  {
   "cell_type": "code",
   "execution_count": 4,
   "id": "09d2b694-9c17-41cf-aacc-daa5916e2e34",
   "metadata": {},
   "outputs": [
    {
     "name": "stdout",
     "output_type": "stream",
     "text": [
      "z-score: -2.0000\n",
      "Critical value: -2.3263\n",
      "Reject Null Hypothesis: False\n"
     ]
    }
   ],
   "source": [
    "import numpy as np\n",
    "from scipy.stats import norm\n",
    "\n",
    "# Given data\n",
    "mu = 5  # Population mean weight (lbs)\n",
    "sigma = 0.5  # Population standard deviation (lbs)\n",
    "sample_mean = 4.8  # Sample mean weight (lbs)\n",
    "n = 25  # Sample size\n",
    "alpha = 0.01  # Significance level\n",
    "\n",
    "# Calculate the standard error of the mean (SEM)\n",
    "sem = sigma / np.sqrt(n)\n",
    "\n",
    "# Calculate the z-score\n",
    "z_score = (sample_mean - mu) / sem\n",
    "\n",
    "# Calculate the critical value from the standard normal distribution\n",
    "critical_value = norm.ppf(alpha)\n",
    "\n",
    "# Determine whether to reject the null hypothesis\n",
    "reject_null = z_score < critical_value\n",
    "\n",
    "# Print the results\n",
    "print(f\"z-score: {z_score:.4f}\")\n",
    "print(f\"Critical value: {critical_value:.4f}\")\n",
    "print(f\"Reject Null Hypothesis: {reject_null}\")\n"
   ]
  },
  {
   "cell_type": "markdown",
   "id": "03a7bfde-1758-4b3e-9e21-4a53f47aacd0",
   "metadata": {},
   "source": [
    "Q16.Two groups of students are given different study materials to prepare for a test. The first group (n1 =\n",
    "30) has a mean score of 80 with a standard deviation of 10, and the second group (n2 = 40) has a mean\n",
    "score of 75 with a standard deviation of 8. Test the hypothesis that the population means for the two\n",
    "groups are equal with a significance level of 0.01."
   ]
  },
  {
   "cell_type": "code",
   "execution_count": 1,
   "id": "33907c16-f31b-47c9-ba27-8f948aeb757a",
   "metadata": {},
   "outputs": [
    {
     "name": "stdout",
     "output_type": "stream",
     "text": [
      "t-statistic: 2.3240\n",
      "Critical value: 2.6501\n",
      "Reject Null Hypothesis: False\n"
     ]
    }
   ],
   "source": [
    "import numpy as np\n",
    "\n",
    "# Given data for Group 1\n",
    "n1 = 30  # Sample size\n",
    "x1_bar = 80  # Sample mean\n",
    "s1 = 10  # Sample standard deviation\n",
    "\n",
    "# Given data for Group 2\n",
    "n2 = 40  # Sample size\n",
    "x2_bar = 75  # Sample mean\n",
    "s2 = 8  # Sample standard deviation\n",
    "\n",
    "# Significance level\n",
    "alpha = 0.01\n",
    "\n",
    "# Calculate pooled standard deviation\n",
    "sp = np.sqrt(((n1 - 1) * s1 ** 2 + (n2 - 1) * s2 ** 2) / (n1 + n2 - 2))\n",
    "\n",
    "# Calculate the t-statistic\n",
    "t_statistic = (x1_bar - x2_bar) / (sp * np.sqrt(1 / n1 + 1 / n2))\n",
    "\n",
    "# Calculate degrees of freedom\n",
    "df = n1 + n2 - 2\n",
    "\n",
    "# Calculate the critical value from the t-distribution\n",
    "from scipy.stats import t\n",
    "critical_value = t.ppf(1 - alpha / 2, df)\n",
    "\n",
    "# Determine whether to reject the null hypothesis\n",
    "reject_null = np.abs(t_statistic) > critical_value\n",
    "\n",
    "# Print the results\n",
    "print(f\"t-statistic: {t_statistic:.4f}\")\n",
    "print(f\"Critical value: {critical_value:.4f}\")\n",
    "print(f\"Reject Null Hypothesis: {reject_null}\")\n"
   ]
  },
  {
   "cell_type": "markdown",
   "id": "620d7924-f052-4c58-869c-9022171020cc",
   "metadata": {},
   "source": [
    "Q17.A marketing company wants to estimate the average number of ads watched by viewers during a TV\n",
    "program. They take a random sample of 50 viewers and find that the sample mean is 4 with a standard\n",
    "deviation of 1.5. Estimate the population mean with a 99% confidence interval."
   ]
  },
  {
   "cell_type": "code",
   "execution_count": 2,
   "id": "c66b06f8-7da6-41fb-98df-22056375fdc5",
   "metadata": {},
   "outputs": [
    {
     "name": "stdout",
     "output_type": "stream",
     "text": [
      "99% Confidence Interval for the population mean: (3.43, 4.57)\n"
     ]
    }
   ],
   "source": [
    "from scipy.stats import t\n",
    "import numpy as np\n",
    "\n",
    "# Given data\n",
    "sample_mean = 4  # Sample mean\n",
    "sample_std_dev = 1.5  # Sample standard deviation\n",
    "sample_size = 50  # Sample size\n",
    "confidence_level = 0.99  # Confidence level\n",
    "\n",
    "# Calculate the degrees of freedom\n",
    "df = sample_size - 1\n",
    "\n",
    "# Calculate the t-score for the 99% confidence level and given degrees of freedom\n",
    "t_score = t.ppf((1 + confidence_level) / 2, df)\n",
    "\n",
    "# Calculate the margin of error\n",
    "margin_of_error = t_score * (sample_std_dev / np.sqrt(sample_size))\n",
    "\n",
    "# Calculate the lower and upper bounds of the confidence interval\n",
    "lower_bound = sample_mean - margin_of_error\n",
    "upper_bound = sample_mean + margin_of_error\n",
    "\n",
    "# Print the results\n",
    "print(f\"99% Confidence Interval for the population mean: ({lower_bound:.2f}, {upper_bound:.2f})\")\n"
   ]
  },
  {
   "cell_type": "code",
   "execution_count": null,
   "id": "e421a3c7-c432-4fc9-8639-bd978f08b8eb",
   "metadata": {},
   "outputs": [],
   "source": []
  }
 ],
 "metadata": {
  "kernelspec": {
   "display_name": "Python 3 (ipykernel)",
   "language": "python",
   "name": "python3"
  },
  "language_info": {
   "codemirror_mode": {
    "name": "ipython",
    "version": 3
   },
   "file_extension": ".py",
   "mimetype": "text/x-python",
   "name": "python",
   "nbconvert_exporter": "python",
   "pygments_lexer": "ipython3",
   "version": "3.10.8"
  }
 },
 "nbformat": 4,
 "nbformat_minor": 5
}
