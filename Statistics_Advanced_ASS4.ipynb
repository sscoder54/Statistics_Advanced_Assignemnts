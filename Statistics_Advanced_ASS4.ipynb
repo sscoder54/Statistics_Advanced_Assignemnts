{
 "cells": [
  {
   "cell_type": "markdown",
   "id": "248bdeb9-8188-4d09-8252-324fdba83436",
   "metadata": {},
   "source": [
    "Q1.What is the difference between a t-test and a z-test? Provide an example scenario where you would\n",
    "use each type of test."
   ]
  },
  {
   "cell_type": "markdown",
   "id": "7256be4d-dba4-4b04-bf8b-9674b7f4a64c",
   "metadata": {},
   "source": [
    "\n",
    "A t-test is used when you have a small sample size (typically less than 30) or when the population standard deviation is unknown. It compares the means of two groups to determine if there is a significant difference between them.\n",
    "\n",
    "Example: You want to compare the average test scores of two different classes, each with 20 students.\n",
    "\n",
    "A z-test, on the other hand, is used when you have a large sample size (typically more than 30) and the population standard deviation is known. It also compares the means of two groups to determine if there is a significant difference between them.\n",
    "\n",
    "Example: You want to compare the average heights of two different populations, each with more than 100 individuals, and you know the standard deviation of heights for both populations."
   ]
  },
  {
   "cell_type": "markdown",
   "id": "9692fff1-ea65-4be4-8bb0-1933333d4ea8",
   "metadata": {},
   "source": [
    "Q2.Differentiate between one-tailed and two-tailed tests."
   ]
  },
  {
   "cell_type": "markdown",
   "id": "c7d6b580-3b9b-4c4f-92b8-35f90d2a40bb",
   "metadata": {},
   "source": [
    "One-tailed and two-tailed tests refer to the directionality of the hypothesis being tested and the corresponding critical region or rejection region.\n",
    "1.One-tailed test:\n",
    "   - In a one-tailed test, the hypothesis is directional, meaning it predicts the direction of the effect (e.g., greater than, less than).\n",
    "   - The critical region is located entirely in one tail of the distribution.\n",
    "   - The decision to reject the null hypothesis occurs when the test statistic falls in the specified tail of the distribution.\n",
    "\n",
    "2.Two-tailed test:\n",
    "   - In a two-tailed test, the hypothesis is non-directional, meaning it does not predict the direction of the effect but only that there is a difference.\n",
    "   - The critical region is divided between both tails of the distribution.\n",
    "   - The decision to reject the null hypothesis occurs when the test statistic falls in either tail of the distribution.\n"
   ]
  },
  {
   "cell_type": "markdown",
   "id": "f13b8b17-ef18-422d-9202-e13a4cfd4aad",
   "metadata": {},
   "source": [
    "Q3: Explain the concept of Type 1 and Type 2 errors in hypothesis testing. Provide an example scenario for each type of error."
   ]
  },
  {
   "cell_type": "markdown",
   "id": "883de8b4-01f3-484d-b337-26525809e0ef",
   "metadata": {},
   "source": [
    "A type I error (false-positive) occurs if an investigator rejects a null hypothesis that is actually true in the population.\n",
    "Example:\n",
    "Suppose a medical test claims to accurately detect a certain disease with a 5% false positive rate. In reality, the test is flawed and sometimes incorrectly diagnoses healthy individuals as having the disease. If a healthy person receives a positive test result and undergoes unnecessary treatment or experiences psychological distress, it would be a Type 1 error.\n",
    "\n",
    "A type II error (false-negative) occurs if the investigator fails to reject a null hypothesis that is actually false in the population.\n",
    "Example:\n",
    "Consider a new drug claimed to be effective in treating a certain condition. In reality, the drug does have a positive effect, but a clinical trial fails to detect it due to a small sample size or other factors. Consequently, patients are denied access to a potentially beneficial treatment, resulting in a Type 2 error."
   ]
  },
  {
   "cell_type": "markdown",
   "id": "93111d59-d696-48ed-b500-eebb50080328",
   "metadata": {},
   "source": [
    "Q4.Explain Bayes's theorem with an example."
   ]
  },
  {
   "cell_type": "markdown",
   "id": "1210ac17-aa67-4e14-82c5-569b5f03a20c",
   "metadata": {},
   "source": [
    "ChatGPT\n",
    "Bayes's theorem is a fundamental concept in probability theory that describes how to update the probability of a hypothesis based on new evidence. It mathematically relates the conditional probability of an event given prior knowledge to the prior probability of the event and the probability of the evidence given both the hypothesis and its negation."
   ]
  },
  {
   "cell_type": "raw",
   "id": "dea7fd35-6053-41b7-b59d-f281d139e3e5",
   "metadata": {},
   "source": [
    "Bayes's theorem is a fundamental concept in probability theory that describes how to update the probability of a hypothesis in light of new evidence. It is expressed mathematically as:\n",
    "\n",
    "P(A|B) = {P(B|A) * P(A)}/{P(B)}\n",
    "\n",
    "Where:\n",
    "P(A|B) is the probability of event A given event B has occurred (the posterior probability.\n",
    "P(B|A) is the probability of event B given event A has occurred (the likelihood).\n",
    "P(A) is the prior probability of event A.\n",
    "P(B) is the probability of event B.\n",
    "\n",
    "Here's a simple example to illustrate Bayes's theorem:\n",
    "\n",
    "Let's say we have a bag containing three red marbles and two blue marbles. We randomly select a marble from the bag without looking, and then we draw another marble from the same bag without replacement.\n",
    "\n",
    "Now, let's define our events:\n",
    "- Event A: Drawing a red marble on the first draw.\n",
    "- Event B: Drawing a red marble on the second draw.\n",
    "\n",
    "We want to calculate the probability that the first marble drawn was red (event A) given that the second marble drawn was red (event B).\n",
    "\n",
    "Given:\n",
    "P(A) the prior probability of drawing a red marble on the first draw, is 3/5\n",
    "P(B|A) the probability of drawing a red marble on the second draw given that the first draw was red, is 2/4 since one red marble was removed.\n",
    "P(B)he probability of drawing a red marble on the second draw, can be calculated using the law of total probability:\n",
    "  P(B) = P(B|A)*P(A) + P(B|(neg A))*P(neg A)\n",
    "       = (2/4)*(3/4)+(3/4)*(2/5)\n",
    "       = 3/5\n",
    "\n",
    "Now, we can apply Bayes's theorem to find P(A|B), the probability of the first draw being red given that the second draw was red:\n",
    "P(A|B) = {P(B|A)*P(A)}/{P(B)}\n",
    "P(A|B) = (2/4)*(3/5)/(3/5)\n",
    "       =  2/3\n",
    "\n",
    "So, the probability that the first marble drawn was red, given that the second marble drawn was red, is 2/3"
   ]
  },
  {
   "cell_type": "markdown",
   "id": "84bdaf43-5149-4905-8813-1ce0081278e8",
   "metadata": {},
   "source": [
    "Q5.What is a confidence interval? How to calculate the confidence interval, explain with an example."
   ]
  },
  {
   "cell_type": "raw",
   "id": "678c1a9d-3e40-49fa-b97a-ebe4d56c4a69",
   "metadata": {},
   "source": [
    "A confidence interval is a range of values that likely contains the true value of a population parameter, such as a population mean or proportion, with a certain level of confidence. It provides a measure of the uncertainty associated with estimating the parameter from a sample.\n",
    "\n",
    "To calculate a confidence interval, you typically follow these steps:\n",
    "\n",
    "1. Select a Confidence Level: Determine the desired level of confidence, often denoted by (1 - alpha), where \"alpha\" is the significance level (typically chosen as 0.05 for a 95% confidence level).\n",
    "\n",
    "2. Choose a Statistical Distribution: Depending on the type of data and assumptions, you select an appropriate statistical distribution (e.g., normal distribution, t-distribution).\n",
    "\n",
    "3. Calculate the Point Estimate: Use the sample data to compute the point estimate of the population parameter (e.g., sample mean, sample proportion).\n",
    "\n",
    "4. Determine the Margin of Error: Based on the selected confidence level and the chosen distribution, calculate the margin of error, which represents the range within which the true parameter value is likely to lie.\n",
    "\n",
    "5. Construct the Confidence Interval: Combine the point estimate and the margin of error to define the confidence interval.\n",
    "\n",
    "Here's an example to illustrate how to calculate a confidence interval for the population mean:\n",
    "\n",
    "Suppose we want to estimate the average height of adult males in a city. We take a random sample of 50 adult males and measure their heights. The sample mean height is 175 cm, and the sample standard deviation is 10 cm.\n",
    "\n",
    "1. (1 - alpha = 0.95), where alpha = 0.05.\n",
    "\n",
    "2.Since the sample size is large (n > 30), we can use the normal distribution.\n",
    "\n",
    "3. Calculate the Point Estimate: The sample mean height x_bar is 175 cm.\n",
    "\n",
    "4. Using the formula for the margin of error for a normal distribution:\n",
    "   Margin of Error = Z * {Standard Deviation/sqrt(n)}\n",
    "   Where Z is the z-score corresponding to the desired confidence level. For a      95% confidence level, Z is approximately  1.96.\n",
    "   Margin of Error = 1.96 (10/sqrt{50})= 2.77\n",
    "\n",
    "5. Construct the Confidence Interval: Combine the point estimate and the margin of error to define the confidence interval:\n",
    " Confidence Interval = (x_bar - Margin of Error, x_bar + Margin of Error)\n",
    "                     = (175 - 2.77, 175 + 2.77)\n",
    "                     = (172.23, 177.77)\n",
    "\n",
    "So, with 95% confidence, we estimate that the average height of adult males in the city is between 172.23 cm and 177.77 cm."
   ]
  },
  {
   "cell_type": "markdown",
   "id": "b02cc5e2-ea02-4836-ad91-7c6b8bde460b",
   "metadata": {},
   "source": [
    "Q6.Use Bayes' Theorem to calculate the probability of an event occurring given prior knowledge of the event's probability and new evidence. Provide a sample problem and solution."
   ]
  },
  {
   "cell_type": "raw",
   "id": "778a47fa-cf75-4f8f-85a3-c2906e608351",
   "metadata": {},
   "source": [
    "Suppose a certain disease affects 1 in 5000 people in a population. A new test has been developed to detect this disease, and it has an accuracy rate of 99%. This means that if a person has the disease, the test will correctly identify them as positive 99% of the time. However, it also has a false positive rate of 5%. This means that if a person does not have the disease, the test will incorrectly identify them as positive 5% of the time.\n",
    "\n",
    "Let's denote the events as follows:\n",
    "- A: The person has the disease.\n",
    "- B: The test result is positive.\n",
    "\n",
    "We want to find the probability that a person has the disease given that the test result is positive, P(A|B).\n",
    "\n",
    "We can use Bayes' Theorem to calculate this probability:\n",
    "P(A|B) = {P(B|A)*P(A)}/P(B)\n",
    "\n",
    "Where:\n",
    "P(B|A) is the probability of a positive test result given that the person has the disease. In this case, it's the accuracy rate of the test, which is 0.99.\n",
    "P(A) is the prior probability of the person having the disease, which is 1/5000.\n",
    "P(B) is the total probability of getting a positive test result, which can be calculated using the law of total probability.\n",
    "\n",
    "P(B) we need to consider two scenarios:\n",
    "1. The person has the disease and the test correctly identifies it as positive.\n",
    "2. The person does not have the disease, but the test incorrectly identifies it as positive.\n",
    "\n",
    "P(B) = P(B|A) * P(A) + P(B|neg A) * P(neg A)\n",
    "\n",
    "\n",
    "P(B|A) = 0.99 (accuracy rate)\n",
    "P(A) = 1/5000 (prior probability of having the disease)\n",
    "P(neg A) = 1 - P(A) = 1 -(1/5000) (probability of not having the disease)\n",
    "P(B|\\neg A) = 0.05\\) (false positive rate)\n",
    "\n",
    "P(B) = (0.99 *(1/5000)) + (0.05 * (1 - (1/5000)}))\n",
    "     = 0.05188\n",
    "\n",
    "Now, we can calculate P(A|B) using Bayes' Theorem:\n",
    "P(A|B) = (0.99*(1/5000))/0.050188\n",
    "       = 0.003946\n",
    "\n",
    "So, given that the test result is positive, the probability that the person actually has the disease is approximately 0.3946%."
   ]
  },
  {
   "cell_type": "markdown",
   "id": "7dd3c56d-4115-4e5a-9c0c-836cc5339f27",
   "metadata": {},
   "source": [
    "Q7.Calculate the 95% confidence interval for a sample of data with a mean of 50 and a standard deviation of 5. Interpret the results."
   ]
  },
  {
   "cell_type": "markdown",
   "id": "f1491668-f2b2-4aa2-a2c4-a684ad3cb918",
   "metadata": {},
   "source": [
    "mean=50\n",
    "STD=5\n",
    "confidence interval = 95%=0.95\n",
    "assume sample size = 25\n",
    "marginal error = {z|(1-0.95)/2}*(5/sqrt(25))=-1.96\n",
    "\n",
    "confidance interval = [50-1.96,50+1.96] =[48.04,51.96]\n",
    "\n"
   ]
  },
  {
   "cell_type": "markdown",
   "id": "55b257e8-4145-442f-90ba-98fc6ba29011",
   "metadata": {},
   "source": [
    "Q8.What is the margin of error in a confidence interval? How does sample size affect the margin of error?\n",
    "Provide an example of a scenario where a larger sample size would result in a smaller margin of error."
   ]
  },
  {
   "cell_type": "markdown",
   "id": "c0577ce7-fcff-4c83-a737-b98a40e21056",
   "metadata": {},
   "source": [
    "A larger sample size results in a smaller margin of error because as the sample size increases, the standard error of the sample mean decreases. The standard error represents the variability of sample means around the population mean. When the sample size is larger, the variability decreases, leading to a smaller margin of error.\n",
    "\n",
    "Suppose we want to estimate the average weight of apples in a certain orchard. We take two different samples, one with a sample size of 10 and another with a sample size of 100. Let's assume the population standard deviation of apple weights is known to be 2 grams, and we want to construct a 95% confidence interval for the population mean weight.\n",
    "\n",
    "For the sample with a sample size of 10:\n",
    "Margin of Error = 1.96 * (2/sqrt(10))=1.24 grams\n",
    "\n",
    "For the sample with a sample size of 100:\n",
    "Margin of Error = 1.96 * (2/sqrt(100))=0.392 grams\n",
    "\n",
    "As you can see, the margin of error for the sample with a larger sample size (100) is smaller compared to the sample with a smaller sample size (10). This illustrates how a larger sample size leads to a smaller margin of error, resulting in a more precise estimate of the population parameter.\n"
   ]
  },
  {
   "cell_type": "markdown",
   "id": "f455414f-12f4-49b2-890d-0f88c2973162",
   "metadata": {},
   "source": [
    "Q9. Calculate the z-score for a data point with a value of 75, a population mean of 70, and a population standard deviation of 5. Interpret the results."
   ]
  },
  {
   "cell_type": "markdown",
   "id": "e2c0aa6f-b6d4-46e8-a81a-96157ecc02ed",
   "metadata": {},
   "source": [
    "x=75\n",
    "x_bar=70\n",
    "mu=5\n",
    "\n",
    "z-score=(75-70)/5=1\n",
    "\n",
    "A z-score of 1 indicates that the data point is 1 standard deviation above the mean in the distribution."
   ]
  },
  {
   "cell_type": "markdown",
   "id": "b9e5b27a-4e01-4e2d-9b90-be19246f9154",
   "metadata": {},
   "source": [
    "Q10. In a study of the effectiveness of a new weight loss drug, a sample of 50 participants lost an average of 6 pounds with a standard deviation of 2.5 pounds. Conduct a hypothesis test to determine if the drug is\n",
    "significantly effective at a 95% confidence level using a t-test."
   ]
  },
  {
   "cell_type": "markdown",
   "id": "d5254c5f-053c-4a99-a0eb-edb89ee3abaa",
   "metadata": {},
   "source": [
    "n=50\n",
    "x_bar=6pounds\n",
    "s=2.5\n",
    "C_I=0.95\n",
    "\n",
    "Null hypothesis mu<=0\n",
    "\n",
    "Alternative hypothesis mu>0\n",
    "\n",
    "Now, we find the critical value for a one-tailed t-test with df=49 and \n",
    "alpha=0.05. Using a t-distribution table or statistical software, we find the critical value to be approximately 1.677.\n",
    "\n",
    "t_statistics = (6-0)/(2.5/sqrt(50))=16.79\n",
    "\n",
    "Since our calculated t_statistic (16.97) is much greater than the critical value (1.677), we reject the null hypothesis.\n",
    "\n",
    "Conclusion: At a 95% confidence level, we have sufficient evidence to conclude that the new weight loss drug is significantly effective, as the average weight loss of 6 pounds is significantly greater than 0 pounds."
   ]
  },
  {
   "cell_type": "markdown",
   "id": "a386d784-c631-4873-8904-75db8f803307",
   "metadata": {},
   "source": [
    "Q11. In a survey of 500 people, 65% reported being satisfied with their current job. Calculate the 95% confidence interval for the true proportion of people who are satisfied with their job."
   ]
  },
  {
   "cell_type": "code",
   "execution_count": 1,
   "id": "850c6032-12b1-412c-b25b-a742ed845176",
   "metadata": {},
   "outputs": [
    {
     "name": "stdout",
     "output_type": "stream",
     "text": [
      "95% Confidence Interval: (0.6081925393809212, 0.6918074606190788)\n"
     ]
    }
   ],
   "source": [
    "from scipy.stats import norm\n",
    "import numpy as np\n",
    "\n",
    "# Sample proportion\n",
    "p_hat = 0.65\n",
    "\n",
    "# Sample size\n",
    "n = 500\n",
    "\n",
    "# Standard error\n",
    "SE = np.sqrt((p_hat * (1 - p_hat)) / n)\n",
    "\n",
    "# Margin of error\n",
    "margin_of_error = norm.ppf(0.975) * SE\n",
    "\n",
    "# Confidence interval\n",
    "confidence_interval = (p_hat - margin_of_error, p_hat + margin_of_error)\n",
    "\n",
    "print(\"95% Confidence Interval:\", confidence_interval)\n"
   ]
  },
  {
   "cell_type": "markdown",
   "id": "4cc5de33-ef55-4f3d-ab10-8106770c0a3f",
   "metadata": {},
   "source": [
    "Q12. A researcher is testing the effectiveness of two different teaching methods on student performance.\n",
    "Sample A has a mean score of 85 with a standard deviation of 6, while sample B has a mean score of 82\n",
    "with a standard deviation of 5. Conduct a hypothesis test to determine if the two teaching methods have a\n",
    "significant difference in student performance using a t-test with a significance level of 0.01."
   ]
  },
  {
   "cell_type": "code",
   "execution_count": 2,
   "id": "bda2914a-e6d7-43eb-9711-cd6f461ee2ac",
   "metadata": {},
   "outputs": [
    {
     "name": "stdout",
     "output_type": "stream",
     "text": [
      "Independent Samples t-Test:\n",
      "t-statistic: 2.1038606199548298\n",
      "p-value: 0.03973697161571063\n",
      "Fail to reject the null hypothesis. There is no significant difference in student performance between the two teaching methods.\n"
     ]
    }
   ],
   "source": [
    "from scipy import stats\n",
    "from scipy.stats import t\n",
    "import numpy as np\n",
    "A_bar=85\n",
    "STD1=6\n",
    "B_bar=82\n",
    "STD2=5\n",
    "si=0.01\n",
    "\n",
    "n_A=n_B=30 #assumtion\n",
    "\n",
    "t_statistic, p_value = stats.ttest_ind_from_stats(mean1=A_bar, std1=STD1, nobs1=n_A,\n",
    "                                                  mean2=B_bar, std2=STD2, nobs2=n_B)\n",
    "\n",
    "# Significance level\n",
    "alpha = 0.01\n",
    "\n",
    "# Print the results\n",
    "print(\"Independent Samples t-Test:\")\n",
    "print(\"t-statistic:\", t_statistic)\n",
    "print(\"p-value:\", p_value)\n",
    "\n",
    "# Compare p-value to significance level\n",
    "if p_value < alpha:\n",
    "    print(\"Reject the null hypothesis. There is a significant difference in student performance between the two teaching methods.\")\n",
    "else:\n",
    "    print(\"Fail to reject the null hypothesis. There is no significant difference in student performance between the two teaching methods.\")\n",
    "\n"
   ]
  },
  {
   "cell_type": "markdown",
   "id": "e82b8e84-2342-41b4-bbfd-3a7ce17cd6c3",
   "metadata": {},
   "source": [
    "Q13. A population has a mean of 60 and a standard deviation of 8. A sample of 50 observations has a mean of 65. Calculate the 90% confidence interval for the true population mean."
   ]
  },
  {
   "cell_type": "code",
   "execution_count": null,
   "id": "b169d137-818e-45bc-bdb6-62af3b9a1d14",
   "metadata": {},
   "outputs": [],
   "source": [
    "from scipy.stats import norm\n",
    "import numpy as np\n",
    "\n",
    "# Given data\n",
    "population_mean = 60\n",
    "population_std_dev = 8\n",
    "sample_mean = 65\n",
    "sample_size = 50\n",
    "confidence_level = 0.90\n",
    "\n",
    "# Calculate the critical value (Z) for the given confidence level\n",
    "# Since this is a two-tailed test, we find the critical value corresponding to (1 - alpha/2)\n",
    "alpha = 1 - confidence_level\n",
    "Z = norm.ppf(1 - alpha/2)\n",
    "\n",
    "# Calculate the standard error\n",
    "SE = population_std_dev / np.sqrt(sample_size)\n",
    "\n",
    "# Calculate the margin of error\n",
    "margin_of_error = Z * SE\n",
    "\n",
    "# Calculate the confidence interval\n",
    "lower_bound = sample_mean - margin_of_error\n",
    "upper_bound = sample_mean + margin_of_error\n",
    "\n",
    "# Print the confidence interval\n",
    "print(\"90% Confidence Interval for the Population Mean:\")\n",
    "print(\"Lower Bound:\", lower_bound)\n",
    "print(\"Upper Bound:\", upper_bound)\n"
   ]
  },
  {
   "cell_type": "markdown",
   "id": "b1eaf08d-b097-40c1-bcd2-ed72cae663cb",
   "metadata": {},
   "source": [
    "Q14. In a study of the effects of caffeine on reaction time, a sample of 30 participants had an average\n",
    "reaction time of 0.25 seconds with a standard deviation of 0.05 seconds. Conduct a hypothesis test to\n",
    "determine if the caffeine has a significant effect on reaction time at a 90% confidence level using a t-test."
   ]
  },
  {
   "cell_type": "code",
   "execution_count": 5,
   "id": "c7f72fac-3b66-4cf3-b0d3-68637a81ad8c",
   "metadata": {},
   "outputs": [
    {
     "name": "stdout",
     "output_type": "stream",
     "text": [
      "critical_value is 1.311433643950529\n",
      "t-test Statistic: 27.386127875258307\n",
      "Reject the null hypothesis. Caffeine has a significant effect on reaction time.\n"
     ]
    }
   ],
   "source": [
    "sample_size=30\n",
    "sample_mean=0.25\n",
    "sample_STD=0.05\n",
    "confidance_level=0.9\n",
    "\n",
    "\n",
    "df=30-1\n",
    "\n",
    "critical_value = t.ppf(confidance_level, df)\n",
    "\n",
    "print(f\"critical_value is {critical_value}\")\n",
    "\n",
    "t_statistic = (sample_mean - 0) / (sample_STD / (sample_size ** 0.5))\n",
    "\n",
    "print(\"t-test Statistic:\", t_statistic)\n",
    "\n",
    "\n",
    "# Compare t-test statistic to critical value\n",
    "if t_statistic > critical_value:\n",
    "    print(\"Reject the null hypothesis. Caffeine has a significant effect on reaction time.\")\n",
    "else:\n",
    "    print(\"Fail to reject the null hypothesis. There is no significant effect of caffeine on reaction time.\")\n"
   ]
  },
  {
   "cell_type": "code",
   "execution_count": null,
   "id": "2be475de-86e6-437b-a796-cc6ef4a3e776",
   "metadata": {},
   "outputs": [],
   "source": []
  }
 ],
 "metadata": {
  "kernelspec": {
   "display_name": "Python 3 (ipykernel)",
   "language": "python",
   "name": "python3"
  },
  "language_info": {
   "codemirror_mode": {
    "name": "ipython",
    "version": 3
   },
   "file_extension": ".py",
   "mimetype": "text/x-python",
   "name": "python",
   "nbconvert_exporter": "python",
   "pygments_lexer": "ipython3",
   "version": "3.10.8"
  }
 },
 "nbformat": 4,
 "nbformat_minor": 5
}
