{
 "cells": [
  {
   "cell_type": "markdown",
   "id": "97b66448-44bb-4056-9c60-6055777a42ba",
   "metadata": {},
   "source": [
    "What is the Probability density function?"
   ]
  },
  {
   "cell_type": "markdown",
   "id": "0c5cd196-2667-4b83-9152-592c6091ade5",
   "metadata": {},
   "source": [
    "The Probability Density Function (PDF) is a concept in probability theory and statistics that describes the likelihood of a continuous random variable taking on a particular value. Unlike discrete random variables, which can only take distinct values, continuous random variables can take on any value within a certain range."
   ]
  },
  {
   "cell_type": "markdown",
   "id": "d6e02dc2-1d1b-4c24-9f68-d26267a7d915",
   "metadata": {},
   "source": [
    "What are the types of Probability distribution?"
   ]
  },
  {
   "cell_type": "markdown",
   "id": "bda32c3f-0cc7-40cf-b1fb-bcdc7e828563",
   "metadata": {},
   "source": [
    "There are several types of probability distributions, and they can be broadly classified into two main categories: \n",
    "1.Discrete probability distributions\n",
    "2.Continuous probability distributions."
   ]
  },
  {
   "cell_type": "markdown",
   "id": "ab0351cb-e2a2-43f8-83f1-65491bbb8282",
   "metadata": {},
   "source": [
    "Write a Python function to calculate the probability density function of a normal distribution with\n",
    "given mean and standard deviation at a given point."
   ]
  },
  {
   "cell_type": "code",
   "execution_count": 4,
   "id": "20528697-47d0-40fa-a7b2-8d86b14bb15f",
   "metadata": {},
   "outputs": [],
   "source": [
    "import math\n",
    "def Pdf_fun(x,u,sigma):\n",
    "    \n",
    "    c = 1/(math.sqrt(2*math.pi)*sigma)\n",
    "    exponent=-((x-u)**2)/(2*sigma**2)\n",
    "    \n",
    "    pdf = c*math.exp(exponent)\n",
    "    return pdf\n",
    "    "
   ]
  },
  {
   "cell_type": "code",
   "execution_count": 5,
   "id": "862aa790-5345-463c-92ab-32e0516f7ce4",
   "metadata": {},
   "outputs": [
    {
     "name": "stdout",
     "output_type": "stream",
     "text": [
      "the PDF at x = 1.5 is : 0.12951759566589174\n"
     ]
    }
   ],
   "source": [
    "#Example\n",
    "mean = 0\n",
    "std_dev = 1\n",
    "point = 1.5\n",
    "pdf_at_point = Pdf_fun(point,mean,std_dev)\n",
    "print(f\"the PDF at x = {point} is : {pdf_at_point}\")"
   ]
  },
  {
   "cell_type": "markdown",
   "id": "a6b0f54f-5484-4005-9d46-882858ebe710",
   "metadata": {},
   "source": [
    "Generate a random sample of size 1000 from a binomial distribution with probability of success 0.4 and plot a histogram of the results using matplotlib."
   ]
  },
  {
   "cell_type": "code",
   "execution_count": 1,
   "id": "639c8236-592f-4abd-abca-88cdd7a69654",
   "metadata": {},
   "outputs": [
    {
     "data": {
      "image/png": "[encoded data removed]",
      "text/plain": [
       "<Figure size 640x480 with 1 Axes>"
      ]
     },
     "metadata": {},
     "output_type": "display_data"
    }
   ],
   "source": [
    "import numpy as np\n",
    "import matplotlib.pyplot as plt\n",
    "\n",
    "# Set the parameters for the binomial distribution\n",
    "n = 10  # Number of trials\n",
    "p = 0.4  # Probability of success\n",
    "\n",
    "# Generate a random sample of size 1000 from the binomial distribution\n",
    "random_sample = np.random.binomial(n, p, 1000)\n",
    "\n",
    "# Plot the histogram\n",
    "plt.hist(random_sample, bins=np.arange(-0.5, n+1.5, 1), edgecolor='black')\n",
    "plt.title('Histogram of Binomial Distribution (n=10, p=0.4)')\n",
    "plt.xlabel('Number of Successes')\n",
    "plt.ylabel('Frequency')\n",
    "plt.show()\n"
   ]
  },
  {
   "cell_type": "markdown",
   "id": "f3702c25-6140-4db9-b0fd-bad3fab0fa05",
   "metadata": {},
   "source": [
    "Write a Python function to calculate the cumulative distribution function of a Poisson distribution with given mean at a given point."
   ]
  },
  {
   "cell_type": "code",
   "execution_count": 2,
   "id": "a64bef82-e7c5-4f45-8d31-0e0ee25b3f0c",
   "metadata": {},
   "outputs": [
    {
     "name": "stdout",
     "output_type": "stream",
     "text": [
      "CDF value at k = 2 is : 0.42319008112684353\n"
     ]
    }
   ],
   "source": [
    "import math\n",
    "def poisson_cdf(k,mean):\n",
    "    \"\"\"\n",
    "    Calculate the cumulative distribution function (CDF) of a Poisson Distribution.\n",
    "    \n",
    "    k: The point at which CDF need to calculate\n",
    "    mean: The mean of the Poisson Distribution\n",
    "    \n",
    "    Returns CDF value at the give point\n",
    "    \n",
    "    \"\"\"\n",
    "    cdf_value = 0\n",
    "    for i in range(k+1):\n",
    "        cdf_value += math.exp(-mean) * (mean ** i) / math.factorial(i)\n",
    "    return cdf_value\n",
    "\n",
    "# Example\n",
    "\n",
    "mean = 3\n",
    "point = 2\n",
    "cdf_at_point = poisson_cdf(point,mean)\n",
    "print(f\"CDF value at k = {point} is : {cdf_at_point}\")    \n",
    "    \n",
    "    \n",
    "    "
   ]
  },
  {
   "cell_type": "markdown",
   "id": "0c7b0c0b-6c4e-4690-9c37-868b0de488a4",
   "metadata": {},
   "source": [
    "How Binomial distribution different from Poisson distribution?"
   ]
  },
  {
   "cell_type": "markdown",
   "id": "2ac1c95c-f8fc-449a-a8ec-d0d46f705766",
   "metadata": {},
   "source": [
    "the key differences lie in the nature of the trials or events being modeled, the number of possible outcomes, and the parameters used to characterize each distribution. The Binomial distribution is focused on a fixed number of binary trials, while the Poisson distribution is concerned with the occurrence of events in a fixed interval."
   ]
  },
  {
   "cell_type": "code",
   "execution_count": 4,
   "id": "da7087f2-f089-4942-84ad-55f5c4bd3691",
   "metadata": {},
   "outputs": [
    {
     "name": "stdout",
     "output_type": "stream",
     "text": [
      "sample mean value is : 5.032\n",
      "sample variance is: 4.997973973973974\n"
     ]
    }
   ],
   "source": [
    "import numpy as np\n",
    "import matplotlib.pyplot as plt\n",
    "\n",
    "# Set the parameters for the Poisson distribution\n",
    "mean = 5 # Mean Value\n",
    "\n",
    "# Generate a random sample of size 1000 from the Poisson distribution\n",
    "random_sample = np.random.poisson(mean, 1000)\n",
    "\n",
    "# Calculate the sample mean and variance\n",
    "\n",
    "sample_mean = np.mean(random_sample)\n",
    "sample_variance = np.var(random_sample, ddof=1)\n",
    "\n",
    "'''\n",
    "Estimating the population variance from a sample, \n",
    "the unbiased sample variance is often preferred because \n",
    "it provides a more accurate estimate of the true population variance. \n",
    "\n",
    "ddof=1 for unbiased sample variance\n",
    "'''\n",
    "print(f\"sample mean value is : {sample_mean}\")\n",
    "print(f\"sample variance is: {sample_variance}\")\n"
   ]
  },
  {
   "cell_type": "markdown",
   "id": "78a7fc6b-e32b-4ccf-86cd-b166e3c55dd0",
   "metadata": {},
   "source": [
    "How mean and variance are related in Binomial distribution and Poisson distribution?"
   ]
  },
  {
   "cell_type": "markdown",
   "id": "2871c7a0-4300-43c9-aa5f-d23510114178",
   "metadata": {},
   "source": [
    "For a Binomial distribution mean and variance are depends on\n",
    "n (number of trials) and p (probability of success in each trial):\n",
    "Binomial distribution mean: np\n",
    "Binomial distribution variance: np(1-p)\n",
    "\n",
    "The Poisson distribution is notable for having its mean equal to its variance."
   ]
  },
  {
   "cell_type": "markdown",
   "id": "838e1b00-3a48-49b3-842d-7572e3cf1d2c",
   "metadata": {},
   "source": [
    "In normal distribution with respect to mean position, where does the least frequent data appear?"
   ]
  },
  {
   "cell_type": "markdown",
   "id": "af1b4627-e3a1-48f8-b780-3a963fc568e1",
   "metadata": {},
   "source": [
    "\n",
    "In a normal distribution, the least frequent data points appear in the tails of the distribution, farthest from the mean"
   ]
  }
 ],
 "metadata": {
  "kernelspec": {
   "display_name": "Python 3 (ipykernel)",
   "language": "python",
   "name": "python3"
  },
  "language_info": {
   "codemirror_mode": {
    "name": "ipython",
    "version": 3
   },
   "file_extension": ".py",
   "mimetype": "text/x-python",
   "name": "python",
   "nbconvert_exporter": "python",
   "pygments_lexer": "ipython3",
   "version": "3.10.8"
  }
 },
 "nbformat": 4,
 "nbformat_minor": 5
}
